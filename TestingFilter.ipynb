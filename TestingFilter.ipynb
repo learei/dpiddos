{
 "cells": [
  {
   "cell_type": "code",
   "execution_count": 1,
   "id": "92710fc2",
   "metadata": {},
   "outputs": [],
   "source": [
    "import numpy as np\n",
    "import pandas as pd\n",
    "from datetime import datetime, timedelta\n",
    "from nfstream import NFStreamer, NFPlugin\n",
    "import nfstream"
   ]
  },
  {
   "cell_type": "code",
   "execution_count": 2,
   "id": "3686eba9",
   "metadata": {},
   "outputs": [],
   "source": [
    "count = 0\n",
    "lowflow = 0\n",
    "time = None\n",
    "pkt_count = 0\n",
    "freq_alarm = 0\n",
    "lowaaf = 0"
   ]
  },
  {
   "cell_type": "code",
   "execution_count": 3,
   "id": "9b329670",
   "metadata": {},
   "outputs": [],
   "source": [
    "class PacketSizePerFlow(NFPlugin):\n",
    "\n",
    "    def on_init(self, pkt, flow):\n",
    "        global lowflow\n",
    "        global time\n",
    "        flow.expiration_id = 0\n",
    "        flow.udps.packet_count = 1\n",
    "        lowflow += 1\n",
    "        flow.udps.is_subtracted = False\n",
    "        flow.udps.alarm = False\n",
    "        flow.udps.lowflow = lowflow\n",
    "        if time is None:\n",
    "            time = pkt.time\n",
    "\n",
    "    def on_update(self, pkt, flow):\n",
    "        global lowflow\n",
    "        global time\n",
    "\n",
    "        flow.udps.lowflow = lowflow\n",
    "        flow.udps.packet_count = 1\n",
    "\n",
    "        if flow.udps.packet_count > 4 and not flow.is_subtracted:\n",
    "            lowflow -= 1\n",
    "            flow.udps.is_subtracted = True\n",
    "\n",
    "\n",
    "\n",
    "        if lowflow > 100:\n",
    "            flow.udps.expiration_id = -1 # -1 value force expiration\n",
    "            flow.udps.alarm = True\n",
    "            lowflow = 0\n",
    "            time = None\n",
    "\n",
    "        if time is None:\n",
    "            time = pkt.time\n",
    "        time_diff = pkt.time - time\n",
    "\n",
    "        if time_diff > 10000:\n",
    "            lowflow = 0\n",
    "            time = None"
   ]
  },
  {
   "cell_type": "code",
   "execution_count": 4,
   "id": "37c43d62",
   "metadata": {},
   "outputs": [],
   "source": [
    "class AAF(NFPlugin):\n",
    "\n",
    "    def on_init(self, pkt, flow):\n",
    "        global lowaaf\n",
    "        global time\n",
    "        flow.expiration_id = 0\n",
    "        flow.udps.aaf = 0\n",
    "        if pkt.direction == 0:\n",
    "                flow.udps.src2dst_size = pkt.payload_size\n",
    "                flow.udps.dst2src_size = 0\n",
    "        elif pkt.direction == 1:\n",
    "                flow.udps.src2dst_size = 0\n",
    "                flow.udps.dst2src_size = pkt.payload_size\n",
    "        flow.udps.alarm = False\n",
    "        flow.udps.lowaaf = lowaaf\n",
    "        if time is None:\n",
    "            time = pkt.time\n",
    "\n",
    "            \n",
    "    def on_update(self, pkt, flow):\n",
    "        global lowaaf\n",
    "        global time\n",
    "\n",
    "        \n",
    "        if pkt.direction == 0:\n",
    "            flow.udps.src2dst_size += pkt.payload_size\n",
    "        elif pkt.direction == 1:\n",
    "            flow.udps.dst2src_size += pkt.payload_size\n",
    "                \n",
    "        flow.udps.lowaaf = lowaaf\n",
    "        if flow.udps.src2dst_size != 0 and flow.udps.dst2src_size != 0:\n",
    "            flow.udps.aaf = flow.udps.dst2src_size/flow.udps.src2dst_size\n",
    "\n",
    "        if flow.udps.aaf != 0 and flow.udps.aaf < 0.1:\n",
    "            lowaaf += 1\n",
    "            \n",
    "\n",
    "\n",
    "        if lowaaf > 100:\n",
    "            flow.udps.expiration_id = -1 # -1 value force expiration\n",
    "            flow.udps.alarm = True\n",
    "            lowaaf = 0\n",
    "            time = None\n",
    "\n",
    "        if time is None:\n",
    "            time = pkt.time\n",
    "        time_diff = pkt.time - time\n",
    "\n",
    "        if time_diff > 10000:\n",
    "            lowaaf = 0\n",
    "            time = None"
   ]
  },
  {
   "cell_type": "code",
   "execution_count": 5,
   "id": "29486e2f",
   "metadata": {},
   "outputs": [],
   "source": [
    "class Frequency(NFPlugin):\n",
    "    def on_init(self, pkt, flow):\n",
    "        global lowflow\n",
    "        global time\n",
    "        global freq_alarm\n",
    "        flow.expiration_id = 0\n",
    "        flow.udps.fr_alarm = False\n",
    "        if flow.bidirectional_duration_ms == 0:\n",
    "            bidir = 0.0001\n",
    "        else:\n",
    "            bidir = flow.bidirectional_duration_ms\n",
    "        frequency = flow.bidirectional_packets/bidir\n",
    "        \n",
    "        if frequency > 300:\n",
    "            freq_alarm += 1\n",
    "            time = None\n",
    "        \n",
    "    def on_update(self, pkt, flow):\n",
    "        global lowflow\n",
    "        global time\n",
    "        global freq_alarm\n",
    "        if flow.bidirectional_duration_ms == 0:\n",
    "            bidir = 0.0001\n",
    "        else:\n",
    "            bidir = flow.bidirectional_duration_ms\n",
    "        frequency = flow.bidirectional_packets/bidir\n",
    "        \n",
    "        if frequency > 300:\n",
    "            freq_alarm += 1\n",
    "            flow.udps.fr_alarm = True\n",
    "            time = None\n",
    "\n",
    "        if time is None:\n",
    "            time = pkt.time\n",
    "        time_diff = pkt.time - time\n",
    "\n",
    "        if time_diff > 10000:\n",
    "            freq_alarm = 0\n",
    "            time = None\n",
    "    "
   ]
  },
  {
   "cell_type": "code",
   "execution_count": 6,
   "id": "d1d8e4de",
   "metadata": {},
   "outputs": [],
   "source": [
    "class LowDelta(NFPlugin):\n",
    "\n",
    "    def on_init(self, pkt, flow):\n",
    "        global count\n",
    "        global time\n",
    "        flow.expiration_id = 0\n",
    "        flow.udps.exp = False\n",
    "        if pkt.delta_time < 1:\n",
    "            flow.udps.low_time_packets = 1\n",
    "            count += 1\n",
    "        else:\n",
    "            flow.udps.low_time_packets = 0\n",
    "        flow.udps.exp = False\n",
    "        flow.udps.count = count\n",
    "\n",
    "    def on_update(self, pkt, flow):\n",
    "        global count\n",
    "        global time\n",
    "        if pkt.delta_time < 1:\n",
    "            count += 1\n",
    "            flow.udps.low_time_packets += 1\n",
    "\n",
    "        flow.udps.exp = False\n",
    "        flow.udps.count = count\n",
    "\n",
    "        if count > 100:\n",
    "            count = 0\n",
    "            flow.udps.exp = True\n",
    "            flow.expiration_id = -1 # -1 value force expiration\n",
    "            \n",
    "        if time is None:\n",
    "            time = pkt.time\n",
    "        time_diff = pkt.time - time\n",
    "\n",
    "        if time_diff > 10000: #reset after 10s\n",
    "            count = 0\n",
    "            time = None\n"
   ]
  },
  {
   "cell_type": "markdown",
   "id": "2d8d9fed",
   "metadata": {},
   "source": [
    "# Load Data"
   ]
  },
  {
   "cell_type": "code",
   "execution_count": 7,
   "id": "f69e2f26",
   "metadata": {},
   "outputs": [],
   "source": [
    "mssql_packetsize_pf = NFStreamer(source=\"/home/student/BA/PCAP-01-12/PCAP-01-12_0250-0499/SAT-01-12-2018_0444.pcap\",\n",
    "                         udps=PacketSizePerFlow(),\n",
    "                         )\n",
    "mssql_freq = NFStreamer(source=\"/home/student/BA/PCAP-01-12/PCAP-01-12_0250-0499/SAT-01-12-2018_0444.pcap\",\n",
    "                         udps=Frequency(),\n",
    "                         )\n",
    "mssql_lowdelta = NFStreamer(source=\"/home/student/BA/PCAP-01-12/PCAP-01-12_0250-0499/SAT-01-12-2018_0444.pcap\",\n",
    "                         udps=LowDelta(),\n",
    "                         )\n",
    "mssql_aaf = NFStreamer(source=\"/home/student/BA/PCAP-01-12/PCAP-01-12_0250-0499/SAT-01-12-2018_0444.pcap\",\n",
    "                         udps=AAF(),\n",
    "                         )\n",
    "\n",
    "#2013-12-17_capture1 \n",
    "comparison_packetsize_pf = NFStreamer(source=\"/home/student/BA/Comparison-Traffic/2013-12-17_capture1.pcap\",\n",
    "                         udps=[PacketSizePerFlow()])\n",
    "comparison_frequency = NFStreamer(source=\"/home/student/BA/Comparison-Traffic/2013-12-17_capture1.pcap\",\n",
    "                         udps=[Frequency()])\n",
    "\n",
    "comparison_lowdelta = NFStreamer(source=\"/home/student/BA/Comparison-Traffic/2013-12-17_capture1.pcap\",\n",
    "                         udps=[LowDelta()])\n",
    "\n",
    "comp_aaf = NFStreamer(source=\"/home/student/BA/Comparison-Traffic/2013-12-17_capture1.pcap\",\n",
    "                         udps=[AAF()])\n"
   ]
  },
  {
   "cell_type": "markdown",
   "id": "bb5a532a",
   "metadata": {},
   "source": [
    "# Testing"
   ]
  },
  {
   "cell_type": "code",
   "execution_count": 8,
   "id": "6147e1fd",
   "metadata": {},
   "outputs": [
    {
     "name": "stdout",
     "output_type": "stream",
     "text": [
      "Number of Expirations mssql:  0\n",
      "Number of Expirations comp:  5\n"
     ]
    }
   ],
   "source": [
    "#testing aaf\n",
    "\n",
    "a = 0\n",
    "\n",
    "\n",
    "for flow in mssql_aaf:\n",
    "   if flow.udps.alarm == True:\n",
    "        a += 1\n",
    "\n",
    "        \n",
    "print(\"Number of Expirations mssql: \",a)\n",
    "\n",
    "\n",
    "a = 0\n",
    "\n",
    "for flow in comp_aaf:\n",
    "   if flow.udps.alarm == True:\n",
    "        a += 1\n",
    "\n",
    "print(\"Number of Expirations comp: \",a)"
   ]
  },
  {
   "cell_type": "code",
   "execution_count": 9,
   "id": "24009615",
   "metadata": {},
   "outputs": [
    {
     "name": "stdout",
     "output_type": "stream",
     "text": [
      "Number of Expirations mssql:  1472\n",
      "Number of Expirations comp:  0\n"
     ]
    }
   ],
   "source": [
    "#testing packet_size\n",
    "a = 0\n",
    "\n",
    "for flow in mssql_packetsize_pf:\n",
    "   if flow.udps.alarm == True:\n",
    "        a += 1\n",
    "        \n",
    "print(\"Number of Expirations mssql: \",a)\n",
    "\n",
    "\n",
    "a = 0\n",
    "\n",
    "for flow in comparison_packetsize_pf:\n",
    "   if flow.udps.alarm == True:\n",
    "        a += 1\n",
    "        \n",
    "print(\"Number of Expirations comp: \",a)\n"
   ]
  },
  {
   "cell_type": "code",
   "execution_count": 10,
   "id": "f94f4420",
   "metadata": {},
   "outputs": [
    {
     "name": "stdout",
     "output_type": "stream",
     "text": [
      "Number of Expirations mssql:  148202\n",
      "Number of Expirations comp:  15\n"
     ]
    }
   ],
   "source": [
    "#testing frequency\n",
    "\n",
    "a  = 0\n",
    "\n",
    "for flow in mssql_freq:\n",
    "   if flow.udps.fr_alarm == True:\n",
    "        a += 1\n",
    "\n",
    "print(\"Number of Expirations mssql: \",a)\n",
    "\n",
    "a  = 0\n",
    "\n",
    "for flow in comparison_frequency:\n",
    "   if flow.udps.fr_alarm == True:\n",
    "        a += 1\n",
    "\n",
    "print(\"Number of Expirations comp: \",a)\n"
   ]
  },
  {
   "cell_type": "code",
   "execution_count": 12,
   "id": "b4a2dee9",
   "metadata": {
    "scrolled": false
   },
   "outputs": [
    {
     "name": "stdout",
     "output_type": "stream",
     "text": [
      "Number of Expirations mssql:  2917\n",
      "Number of Expirations comp:  2525\n"
     ]
    }
   ],
   "source": [
    "#testing low_delta\n",
    "\n",
    "a  = 0\n",
    "\n",
    "for flow in mssql_lowdelta:\n",
    "   if flow.udps.exp == True:\n",
    "        a += 1\n",
    "\n",
    "print(\"Number of Expirations mssql: \",a)\n",
    "\n",
    "a  = 0\n",
    "\n",
    "for flow in comparison_lowdelta:\n",
    "   if flow.udps.exp == True:\n",
    "        a += 1\n",
    "        \n",
    "print(\"Number of Expirations comp: \",a)\n"
   ]
  },
  {
   "cell_type": "code",
   "execution_count": null,
   "id": "9b600257",
   "metadata": {},
   "outputs": [],
   "source": []
  }
 ],
 "metadata": {
  "hide_input": false,
  "kernelspec": {
   "display_name": "Python 3 (ipykernel)",
   "language": "python",
   "name": "python3"
  },
  "language_info": {
   "codemirror_mode": {
    "name": "ipython",
    "version": 3
   },
   "file_extension": ".py",
   "mimetype": "text/x-python",
   "name": "python",
   "nbconvert_exporter": "python",
   "pygments_lexer": "ipython3",
   "version": "3.10.6"
  }
 },
 "nbformat": 4,
 "nbformat_minor": 5
}
